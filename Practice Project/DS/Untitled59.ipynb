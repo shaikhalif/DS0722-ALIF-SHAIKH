{
 "cells": [
  {
   "cell_type": "code",
   "execution_count": 3,
   "id": "aebc6a46",
   "metadata": {},
   "outputs": [],
   "source": [
    "DataScience = 'hellow batch ds0722, welcome to project phase'"
   ]
  },
  {
   "cell_type": "code",
   "execution_count": 4,
   "id": "4b229512",
   "metadata": {},
   "outputs": [
    {
     "data": {
      "text/plain": [
       "'hellow batch ds0722, welcome to project phase'"
      ]
     },
     "execution_count": 4,
     "metadata": {},
     "output_type": "execute_result"
    }
   ],
   "source": [
    "DataScience"
   ]
  },
  {
   "cell_type": "code",
   "execution_count": null,
   "id": "e1d0c1f5",
   "metadata": {},
   "outputs": [],
   "source": []
  }
 ],
 "metadata": {
  "kernelspec": {
   "display_name": "Python 3 (ipykernel)",
   "language": "python",
   "name": "python3"
  },
  "language_info": {
   "codemirror_mode": {
    "name": "ipython",
    "version": 3
   },
   "file_extension": ".py",
   "mimetype": "text/x-python",
   "name": "python",
   "nbconvert_exporter": "python",
   "pygments_lexer": "ipython3",
   "version": "3.9.12"
  }
 },
 "nbformat": 4,
 "nbformat_minor": 5
}
